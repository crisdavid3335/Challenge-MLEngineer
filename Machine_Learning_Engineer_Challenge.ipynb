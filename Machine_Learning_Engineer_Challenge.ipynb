{
  "nbformat": 4,
  "nbformat_minor": 0,
  "metadata": {
    "colab": {
      "provenance": [],
      "authorship_tag": "ABX9TyO4CnEO0jEBC7/6GksfVjBV",
      "include_colab_link": true
    },
    "kernelspec": {
      "name": "python3",
      "display_name": "Python 3"
    },
    "language_info": {
      "name": "python"
    }
  },
  "cells": [
    {
      "cell_type": "markdown",
      "metadata": {
        "id": "view-in-github",
        "colab_type": "text"
      },
      "source": [
        "<a href=\"https://colab.research.google.com/github/crisdavid3335/Challenge-MLEngineer/blob/main/Machine_Learning_Engineer_Challenge.ipynb\" target=\"_parent\"><img src=\"https://colab.research.google.com/assets/colab-badge.svg\" alt=\"Open In Colab\"/></a>"
      ]
    },
    {
      "cell_type": "code",
      "execution_count": null,
      "metadata": {
        "id": "8Z-vBPHP6zHN"
      },
      "outputs": [],
      "source": [
        "import os\n",
        "import numpy as np\n",
        "\n",
        "\n",
        "\n",
        "# setting seed for reproducibility\n",
        "SEED = 34\n",
        "np.random.seed(SEED)\n",
        "PATH_DOGS = '/content/drive/MyDrive/PENTO_IMGS/dogs'\n",
        "\n",
        "def load_names_images(directory: str) -> dict:\n",
        "    return {\n",
        "        breed: [\n",
        "            file for file in os.listdir(os.path.join(directory, breed))\n",
        "            if file.lower().endswith(('jpg', 'jpeg', 'png'))\n",
        "        ]\n",
        "        for breed in [r for r in os.listdir(directory) if os.path.isdir(os.path.join(directory, r))]\n",
        "    }"
      ]
    }
  ]
}